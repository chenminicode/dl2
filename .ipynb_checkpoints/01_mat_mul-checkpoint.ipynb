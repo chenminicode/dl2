{
 "cells": [
  {
   "cell_type": "markdown",
   "id": "be13c2d6",
   "metadata": {},
   "source": [
    "# Implement matrix multplex from scratch"
   ]
  },
  {
   "cell_type": "markdown",
   "id": "9c2a9901",
   "metadata": {},
   "source": [
    "# Get data"
   ]
  },
  {
   "cell_type": "code",
   "execution_count": null,
   "id": "6f7847c7",
   "metadata": {},
   "outputs": [],
   "source": [
    "#export\n",
    "import operator\n",
    "from pathlib import Path\n",
    "from IPython.core.debugger import set_trace\n",
    "import pickle, gzip, math, torch, matplotlib as mpl\n",
    "import matplotlib.pyplot as plt\n",
    "from torch import tensor"
   ]
  },
  {
   "cell_type": "code",
   "execution_count": null,
   "id": "308f040a",
   "metadata": {},
   "outputs": [],
   "source": [
    "path = 'mnist.pkl.gz'\n",
    "with gzip.open(path, 'rb') as f:\n",
    "    ((x_train, y_train), (x_valid, y_valid), _) = pickle.load(f, encoding='latin-1')"
   ]
  },
  {
   "cell_type": "code",
   "execution_count": null,
   "id": "dde24a76",
   "metadata": {},
   "outputs": [],
   "source": [
    "#export\n",
    "# unit test function\n",
    "def test(a, b, cmp, cname=None):\n",
    "    if cname == None:\n",
    "        cname == cmp.__name__\n",
    "    assert cmp(a, b), f'{cname}\\n{a}\\n{b}\\n'\n",
    "\n",
    "def test_eq(a, b):\n",
    "    return test(a, b, operator.eq, '==')"
   ]
  },
  {
   "cell_type": "code",
   "execution_count": null,
   "id": "bcbd3312",
   "metadata": {},
   "outputs": [],
   "source": [
    "a = 'LALALA'\n",
    "test_eq(a, 'LALALA')"
   ]
  },
  {
   "cell_type": "code",
   "execution_count": null,
   "id": "e058e324",
   "metadata": {},
   "outputs": [],
   "source": [
    "x_train, y_train, x_valid, y_valid = map(tensor, (x_train, y_train, x_valid, y_valid))"
   ]
  },
  {
   "cell_type": "code",
   "execution_count": null,
   "id": "03c9516c",
   "metadata": {},
   "outputs": [
    {
     "data": {
      "text/plain": [
       "(torch.Size([50000, 784]),\n",
       " torch.Size([50000]),\n",
       " torch.Size([10000, 784]),\n",
       " torch.Size([10000]))"
      ]
     },
     "execution_count": null,
     "metadata": {},
     "output_type": "execute_result"
    }
   ],
   "source": [
    "x_train.shape, y_train.shape, x_valid.shape, y_valid.shape"
   ]
  },
  {
   "cell_type": "code",
   "execution_count": null,
   "id": "a3132d0d",
   "metadata": {},
   "outputs": [],
   "source": [
    "test_eq(x_train.shape[0], y_train.shape[0])\n",
    "test_eq(x_valid.shape[0], y_valid.shape[0])"
   ]
  },
  {
   "cell_type": "code",
   "execution_count": null,
   "id": "d718afa7",
   "metadata": {},
   "outputs": [],
   "source": [
    "#export\n",
    "# first try, use 3 for loop\n",
    "def matmul(a, b):\n",
    "    ac, ar = a.shape\n",
    "    bc, br = b.shape\n",
    "    assert ar == bc\n",
    "    c = torch.zeros(ac, br)\n",
    "    for i in range(ac):\n",
    "        for j in range(br):\n",
    "            for k in range(ar):\n",
    "                c[i,j] += a[i,k] * b[k,j]\n",
    "    return c"
   ]
  },
  {
   "cell_type": "code",
   "execution_count": null,
   "id": "75a095db",
   "metadata": {},
   "outputs": [
    {
     "data": {
      "text/plain": [
       "(torch.Size([5, 784]), torch.Size([784, 10]))"
      ]
     },
     "execution_count": null,
     "metadata": {},
     "output_type": "execute_result"
    }
   ],
   "source": [
    "a = x_train[:5,]\n",
    "b = torch.randn(784, 10)\n",
    "a.shape, b.shape"
   ]
  },
  {
   "cell_type": "code",
   "execution_count": null,
   "id": "144acba3",
   "metadata": {},
   "outputs": [
    {
     "name": "stdout",
     "output_type": "stream",
     "text": [
      "CPU times: user 518 ms, sys: 84 µs, total: 518 ms\n",
      "Wall time: 516 ms\n"
     ]
    }
   ],
   "source": [
    "%time t1 = matmul(a, b)"
   ]
  },
  {
   "cell_type": "code",
   "execution_count": null,
   "id": "50066e8d",
   "metadata": {},
   "outputs": [
    {
     "data": {
      "text/plain": [
       "torch.Size([5, 10])"
      ]
     },
     "execution_count": null,
     "metadata": {},
     "output_type": "execute_result"
    }
   ],
   "source": [
    "t1.shape"
   ]
  },
  {
   "cell_type": "code",
   "execution_count": null,
   "id": "a5e0d08a",
   "metadata": {},
   "outputs": [],
   "source": [
    "#export\n",
    "def near(a,b): return torch.allclose(a, b, rtol=1e-3, atol=1e-5)\n",
    "def test_near(a,b): test(a,b,near)"
   ]
  },
  {
   "cell_type": "code",
   "execution_count": null,
   "id": "a0a31682",
   "metadata": {},
   "outputs": [],
   "source": [
    "test_near(t1, a@b)"
   ]
  },
  {
   "cell_type": "markdown",
   "id": "693f6715",
   "metadata": {},
   "source": [
    "# matrix multiplication"
   ]
  },
  {
   "cell_type": "code",
   "execution_count": null,
   "id": "362e3d0b",
   "metadata": {},
   "outputs": [],
   "source": [
    "#export\n",
    "# second try, kill last for loop, by use element wise multiply\n",
    "def matmul(a, b):\n",
    "    ac, ar = a.shape\n",
    "    bc, br = b.shape\n",
    "    assert ar == bc\n",
    "    c = torch.zeros(ac, br)\n",
    "    for i in range(ac):\n",
    "        for j in range(br):\n",
    "            c[i,j] = (a[i, :] * b[:, j]).sum()\n",
    "    return c"
   ]
  },
  {
   "cell_type": "code",
   "execution_count": null,
   "id": "d587264c",
   "metadata": {},
   "outputs": [
    {
     "data": {
      "text/plain": [
       "(torch.Size([784]), torch.Size([784]))"
      ]
     },
     "execution_count": null,
     "metadata": {},
     "output_type": "execute_result"
    }
   ],
   "source": [
    "a[0].shape, b[:, 0].shape"
   ]
  },
  {
   "cell_type": "code",
   "execution_count": null,
   "id": "dc9daec4",
   "metadata": {},
   "outputs": [
    {
     "name": "stdout",
     "output_type": "stream",
     "text": [
      "CPU times: user 2.91 ms, sys: 42 µs, total: 2.95 ms\n",
      "Wall time: 1.94 ms\n"
     ]
    }
   ],
   "source": [
    "%time t2 = matmul(a, b)"
   ]
  },
  {
   "cell_type": "code",
   "execution_count": null,
   "id": "86df4ab1",
   "metadata": {},
   "outputs": [],
   "source": [
    "test_near(t2, a@b)"
   ]
  },
  {
   "cell_type": "code",
   "execution_count": null,
   "id": "e85ac7ae",
   "metadata": {},
   "outputs": [
    {
     "data": {
      "text/plain": [
       "(torch.Size([784, 1]), torch.Size([784, 10]))"
      ]
     },
     "execution_count": null,
     "metadata": {},
     "output_type": "execute_result"
    }
   ],
   "source": [
    "a[1,:].unsqueeze(-1).shape, b.shape"
   ]
  },
  {
   "cell_type": "code",
   "execution_count": null,
   "id": "8b324a97",
   "metadata": {},
   "outputs": [
    {
     "data": {
      "text/plain": [
       "(torch.Size([784, 10]), torch.Size([10]), torch.Size([784]))"
      ]
     },
     "execution_count": null,
     "metadata": {},
     "output_type": "execute_result"
    }
   ],
   "source": [
    "c = a[1,:].unsqueeze(-1) * b\n",
    "c.shape, c.sum(0).shape, c.sum(1).shape"
   ]
  },
  {
   "cell_type": "code",
   "execution_count": null,
   "id": "8349cf07",
   "metadata": {},
   "outputs": [],
   "source": [
    "#export\n",
    "# third try, kill second for loop, use broadcast\n",
    "def matmul(a, b):\n",
    "    ac, ar = a.shape\n",
    "    bc, br = b.shape\n",
    "    assert ar == bc\n",
    "    c = torch.zeros(ac, br)\n",
    "    for i in range(ac):\n",
    "        c[i,:] = (a[i,:].unsqueeze(-1) * b).sum(0)\n",
    "    return c"
   ]
  },
  {
   "cell_type": "code",
   "execution_count": null,
   "id": "5bc87289",
   "metadata": {},
   "outputs": [
    {
     "name": "stdout",
     "output_type": "stream",
     "text": [
      "CPU times: user 0 ns, sys: 2.27 ms, total: 2.27 ms\n",
      "Wall time: 1.19 ms\n"
     ]
    }
   ],
   "source": [
    "%time t3 = matmul(a, b)"
   ]
  },
  {
   "cell_type": "code",
   "execution_count": null,
   "id": "d383132d",
   "metadata": {},
   "outputs": [],
   "source": [
    "test_near(t3, a@b)"
   ]
  },
  {
   "cell_type": "code",
   "execution_count": null,
   "id": "61b499b3",
   "metadata": {},
   "outputs": [],
   "source": []
  }
 ],
 "metadata": {
  "kernelspec": {
   "display_name": "Python 3 (ipykernel)",
   "language": "python",
   "name": "python3"
  }
 },
 "nbformat": 4,
 "nbformat_minor": 5
}
